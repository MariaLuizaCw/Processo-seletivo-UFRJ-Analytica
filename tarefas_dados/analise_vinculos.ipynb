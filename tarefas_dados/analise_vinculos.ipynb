{
 "cells": [
  {
   "cell_type": "markdown",
   "metadata": {},
   "source": [
    "## Mulheres e Homem no mercado de formal "
   ]
  },
  {
   "cell_type": "markdown",
   "metadata": {},
   "source": [
    "#### 1) Importação das bibliotecas e upload da base"
   ]
  },
  {
   "cell_type": "code",
   "execution_count": 1,
   "metadata": {},
   "outputs": [],
   "source": [
    "import pandas as pd\n",
    "import matplotlib.pyplot as plt\n",
    "agregado_vinculos = pd.read_csv(\"dados/agregado_vinculo\")"
   ]
  },
  {
   "cell_type": "markdown",
   "metadata": {},
   "source": [
    "#### 2) Número de vínculos por sexo"
   ]
  },
  {
   "cell_type": "code",
   "execution_count": 2,
   "metadata": {},
   "outputs": [
    {
     "data": {
      "text/html": [
       "<div>\n",
       "<style scoped>\n",
       "    .dataframe tbody tr th:only-of-type {\n",
       "        vertical-align: middle;\n",
       "    }\n",
       "\n",
       "    .dataframe tbody tr th {\n",
       "        vertical-align: top;\n",
       "    }\n",
       "\n",
       "    .dataframe thead th {\n",
       "        text-align: right;\n",
       "    }\n",
       "</style>\n",
       "<table border=\"1\" class=\"dataframe\">\n",
       "  <thead>\n",
       "    <tr style=\"text-align: right;\">\n",
       "      <th>sexo_trabalhador</th>\n",
       "      <th>1</th>\n",
       "      <th>2</th>\n",
       "    </tr>\n",
       "    <tr>\n",
       "      <th>ano</th>\n",
       "      <th></th>\n",
       "      <th></th>\n",
       "    </tr>\n",
       "  </thead>\n",
       "  <tbody>\n",
       "    <tr>\n",
       "      <th>1999</th>\n",
       "      <td>14931320</td>\n",
       "      <td>9650145</td>\n",
       "    </tr>\n",
       "    <tr>\n",
       "      <th>2009</th>\n",
       "      <td>23794873</td>\n",
       "      <td>16872390</td>\n",
       "    </tr>\n",
       "    <tr>\n",
       "      <th>2019</th>\n",
       "      <td>25947222</td>\n",
       "      <td>20509798</td>\n",
       "    </tr>\n",
       "  </tbody>\n",
       "</table>\n",
       "</div>"
      ],
      "text/plain": [
       "sexo_trabalhador         1         2\n",
       "ano                                 \n",
       "1999              14931320   9650145\n",
       "2009              23794873  16872390\n",
       "2019              25947222  20509798"
      ]
     },
     "execution_count": 2,
     "metadata": {},
     "output_type": "execute_result"
    }
   ],
   "source": [
    "agrupado_sexo_ano = agregado_vinculos.groupby(by=[ \"ano\",\"sexo_trabalhador\",])\n",
    "num_vinculos_ano_sexo = agrupado_sexo_ano.numero_vinculos.sum().unstack()\n",
    "num_vinculos_ano_sexo"
   ]
  },
  {
   "cell_type": "markdown",
   "metadata": {},
   "source": [
    "#### 3) Gráfico: Mulheres e Homens no mercado formal"
   ]
  },
  {
   "cell_type": "code",
   "execution_count": 12,
   "metadata": {},
   "outputs": [
    {
     "data": {
      "text/plain": [
       "Text(0.5, 1.0, 'Mulheres e homens no mercado formal')"
      ]
     },
     "execution_count": 12,
     "metadata": {},
     "output_type": "execute_result"
    },
    {
     "data": {
      "image/png": "[encoded data removed]",
      "text/plain": [
       "<Figure size 720x432 with 1 Axes>"
      ]
     },
     "metadata": {},
     "output_type": "display_data"
    }
   ],
   "source": [
    "sns.set_style('whitegrid')\n",
    "num_vinculos_ano_sexo.plot(kind='bar', stacked=True, color=['tab:blue', 'tab:cyan'], width=0.6, figsize=(10,6))\n",
    "plt.xticks(rotation=0)\n",
    "plt.ylabel('Número de vínculos ativos');\n",
    "plt.legend([\"Homens\", \"Mulheres\"]);\n",
    "plt.title(\"Mulheres e homens no mercado formal\")\n"
   ]
  },
  {
   "cell_type": "markdown",
   "metadata": {},
   "source": [
    "#### 4) Porcentagem de mulheres no mercado"
   ]
  },
  {
   "cell_type": "code",
   "execution_count": 3,
   "metadata": {},
   "outputs": [
    {
     "data": {
      "text/plain": [
       "ano\n",
       "1999    39.257811\n",
       "2009    41.488875\n",
       "2019    44.147898\n",
       "Name: Porcentagem de mulheres com vínculo ativo, dtype: float64"
      ]
     },
     "execution_count": 3,
     "metadata": {},
     "output_type": "execute_result"
    }
   ],
   "source": [
    "agrupado_ano = agregado_vinculos.groupby(\"ano\")\n",
    "vinculos_ano_mulheres = num_vinculos_ano_sexo[2]\n",
    "num_vinculos_ano = agrupado_ano[\"numero_vinculos\"].sum()\n",
    "porc_vinc_mulheres = (vinculos_ano_mulheres/num_vinculos_ano)*100\n",
    "porc_vinc_mulheres = porc_vinc_mulheres.rename(\"Porcentagem de mulheres com vínculo ativo\")\n",
    "porc_vinc_mulheres"
   ]
  }
 ],
 "metadata": {
  "kernelspec": {
   "display_name": "Python 3",
   "language": "python",
   "name": "python3"
  },
  "language_info": {
   "codemirror_mode": {
    "name": "ipython",
    "version": 3
   },
   "file_extension": ".py",
   "mimetype": "text/x-python",
   "name": "python",
   "nbconvert_exporter": "python",
   "pygments_lexer": "ipython3",
   "version": "3.8.5"
  }
 },
 "nbformat": 4,
 "nbformat_minor": 4
}
