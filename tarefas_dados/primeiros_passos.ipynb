{
 "cells": [
  {
   "cell_type": "markdown",
   "metadata": {},
   "source": [
    "## "
   ]
  },
  {
   "cell_type": "markdown",
   "metadata": {},
   "source": [
    "## Primeiros passos:"
   ]
  },
  {
   "cell_type": "markdown",
   "metadata": {},
   "source": [
    "#### 1) Importação das bibliotecas"
   ]
  },
  {
   "cell_type": "code",
   "execution_count": 1,
   "metadata": {},
   "outputs": [],
   "source": [
    "import basedosdados as bd\n",
    "import pandas as pd"
   ]
  },
  {
   "cell_type": "markdown",
   "metadata": {},
   "source": [
    "#### 2) Baixando a base pela API "
   ]
  },
  {
   "cell_type": "markdown",
   "metadata": {},
   "source": [
    "query_agregado_vinculos = \"\"\"\n",
    "SELECT \n",
    "    sigla_uf,\n",
    "    sexo_trabalhador,\n",
    "    ano, \n",
    "    vinculo_ativo_3112,\n",
    "    idade,\n",
    "    numero_vinculos, \n",
    "    valor_remun_media_sm,\n",
    "    valor_remun_media_nominal \n",
    "FROM `basedosdados.br_me_rais.agregado_vinculos_uf_vinculo_ativo_cbo_cnae_natureza_juridica_idade_sexo_raca` \n",
    "WHERE ano IN (1999, 2009, 2019) and valor_remun_media_nominal != 0.0 and idade >= 18 and vinculo_ativo_3112=1\n",
    "\"\"\"\n",
    "\n",
    "\n",
    "bd.download(query=query_agregado_vinculos, savepath=\"dados/agregado_vinculo\", billing_project_id=\"processo-ufrj-analytica\")"
   ]
  },
  {
   "cell_type": "markdown",
   "metadata": {},
   "source": [
    "#### 3) Primeiro conato com a base"
   ]
  },
  {
   "cell_type": "code",
   "execution_count": 3,
   "metadata": {},
   "outputs": [
    {
     "data": {
      "text/html": [
       "<div>\n",
       "<style scoped>\n",
       "    .dataframe tbody tr th:only-of-type {\n",
       "        vertical-align: middle;\n",
       "    }\n",
       "\n",
       "    .dataframe tbody tr th {\n",
       "        vertical-align: top;\n",
       "    }\n",
       "\n",
       "    .dataframe thead th {\n",
       "        text-align: right;\n",
       "    }\n",
       "</style>\n",
       "<table border=\"1\" class=\"dataframe\">\n",
       "  <thead>\n",
       "    <tr style=\"text-align: right;\">\n",
       "      <th></th>\n",
       "      <th>sigla_uf</th>\n",
       "      <th>sexo_trabalhador</th>\n",
       "      <th>ano</th>\n",
       "      <th>vinculo_ativo_3112</th>\n",
       "      <th>idade</th>\n",
       "      <th>numero_vinculos</th>\n",
       "      <th>valor_remun_media_sm</th>\n",
       "      <th>valor_remun_media_nominal</th>\n",
       "    </tr>\n",
       "  </thead>\n",
       "  <tbody>\n",
       "    <tr>\n",
       "      <th>0</th>\n",
       "      <td>RJ</td>\n",
       "      <td>1</td>\n",
       "      <td>1999</td>\n",
       "      <td>1</td>\n",
       "      <td>40</td>\n",
       "      <td>1</td>\n",
       "      <td>1.45</td>\n",
       "      <td>194.12</td>\n",
       "    </tr>\n",
       "    <tr>\n",
       "      <th>1</th>\n",
       "      <td>RJ</td>\n",
       "      <td>1</td>\n",
       "      <td>1999</td>\n",
       "      <td>1</td>\n",
       "      <td>48</td>\n",
       "      <td>1</td>\n",
       "      <td>1.96</td>\n",
       "      <td>262.47</td>\n",
       "    </tr>\n",
       "    <tr>\n",
       "      <th>2</th>\n",
       "      <td>RJ</td>\n",
       "      <td>1</td>\n",
       "      <td>1999</td>\n",
       "      <td>1</td>\n",
       "      <td>50</td>\n",
       "      <td>1</td>\n",
       "      <td>5.32</td>\n",
       "      <td>713.71</td>\n",
       "    </tr>\n",
       "    <tr>\n",
       "      <th>3</th>\n",
       "      <td>RJ</td>\n",
       "      <td>1</td>\n",
       "      <td>1999</td>\n",
       "      <td>1</td>\n",
       "      <td>33</td>\n",
       "      <td>1</td>\n",
       "      <td>2.05</td>\n",
       "      <td>275.00</td>\n",
       "    </tr>\n",
       "    <tr>\n",
       "      <th>4</th>\n",
       "      <td>RJ</td>\n",
       "      <td>1</td>\n",
       "      <td>1999</td>\n",
       "      <td>1</td>\n",
       "      <td>19</td>\n",
       "      <td>1</td>\n",
       "      <td>1.70</td>\n",
       "      <td>231.30</td>\n",
       "    </tr>\n",
       "  </tbody>\n",
       "</table>\n",
       "</div>"
      ],
      "text/plain": [
       "  sigla_uf  sexo_trabalhador   ano  vinculo_ativo_3112  idade  \\\n",
       "0       RJ                 1  1999                   1     40   \n",
       "1       RJ                 1  1999                   1     48   \n",
       "2       RJ                 1  1999                   1     50   \n",
       "3       RJ                 1  1999                   1     33   \n",
       "4       RJ                 1  1999                   1     19   \n",
       "\n",
       "   numero_vinculos  valor_remun_media_sm  valor_remun_media_nominal  \n",
       "0                1                  1.45                     194.12  \n",
       "1                1                  1.96                     262.47  \n",
       "2                1                  5.32                     713.71  \n",
       "3                1                  2.05                     275.00  \n",
       "4                1                  1.70                     231.30  "
      ]
     },
     "execution_count": 3,
     "metadata": {},
     "output_type": "execute_result"
    }
   ],
   "source": [
    "agregado_vinculos = pd.read_csv(\"dados/agregado_vinculo\")\n",
    "agregado_vinculos.head()"
   ]
  }
 ],
 "metadata": {
  "kernelspec": {
   "display_name": "Python 3",
   "language": "python",
   "name": "python3"
  },
  "language_info": {
   "codemirror_mode": {
    "name": "ipython",
    "version": 3
   },
   "file_extension": ".py",
   "mimetype": "text/x-python",
   "name": "python",
   "nbconvert_exporter": "python",
   "pygments_lexer": "ipython3",
   "version": "3.8.5"
  }
 },
 "nbformat": 4,
 "nbformat_minor": 4
}
