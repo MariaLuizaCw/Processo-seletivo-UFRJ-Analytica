{
 "cells": [
  {
   "cell_type": "markdown",
   "metadata": {},
   "source": [
    "## Desigualdade de Gênero Mercado Formal"
   ]
  },
  {
   "cell_type": "markdown",
   "metadata": {},
   "source": [
    "### Primeiros passos:"
   ]
  },
  {
   "cell_type": "markdown",
   "metadata": {},
   "source": [
    "#### 1) Importação das bibliotecas"
   ]
  },
  {
   "cell_type": "code",
   "execution_count": 17,
   "metadata": {},
   "outputs": [],
   "source": [
    "import basedosdados as bd\n",
    "import pandas as pd\n",
    "import numpy as np\n",
    "import weightedstats as ws\n",
    "import seaborn as sns\n",
    "import matplotlib.pyplot as plt\n"
   ]
  },
  {
   "cell_type": "markdown",
   "metadata": {},
   "source": [
    "#### 2) Baixando a base pela API "
   ]
  },
  {
   "cell_type": "markdown",
   "metadata": {},
   "source": [
    "query_agregado_vinculos = \"\"\"\n",
    "SELECT \n",
    "    sigla_uf,\n",
    "    sexo_trabalhador,\n",
    "    ano, \n",
    "    vinculo_ativo_3112,\n",
    "    idade,\n",
    "    numero_vinculos, \n",
    "    valor_remun_media_sm,\n",
    "    valor_remun_media_nominal \n",
    "FROM `basedosdados.br_me_rais.agregado_vinculos_uf_vinculo_ativo_cbo_cnae_natureza_juridica_idade_sexo_raca` \n",
    "WHERE ano IN (1999, 2009, 2019) and valor_remun_media_nominal != 0.0 and idade >= 18 and vinculo_ativo_3112=1\n",
    "\"\"\"\n",
    "\n",
    "\n",
    "bd.download(query=query_agregado_vinculos, savepath=\"dados/agregado_vinculo\", billing_project_id=\"processo-ufrj-analytica\")"
   ]
  },
  {
   "cell_type": "markdown",
   "metadata": {},
   "source": [
    "#### 3) Primeiro contato com a base"
   ]
  },
  {
   "cell_type": "code",
   "execution_count": 269,
   "metadata": {},
   "outputs": [
    {
     "data": {
      "text/html": [
       "<div>\n",
       "<style scoped>\n",
       "    .dataframe tbody tr th:only-of-type {\n",
       "        vertical-align: middle;\n",
       "    }\n",
       "\n",
       "    .dataframe tbody tr th {\n",
       "        vertical-align: top;\n",
       "    }\n",
       "\n",
       "    .dataframe thead th {\n",
       "        text-align: right;\n",
       "    }\n",
       "</style>\n",
       "<table border=\"1\" class=\"dataframe\">\n",
       "  <thead>\n",
       "    <tr style=\"text-align: right;\">\n",
       "      <th></th>\n",
       "      <th>sigla_uf</th>\n",
       "      <th>sexo_trabalhador</th>\n",
       "      <th>ano</th>\n",
       "      <th>vinculo_ativo_3112</th>\n",
       "      <th>idade</th>\n",
       "      <th>numero_vinculos</th>\n",
       "      <th>valor_remun_media_sm</th>\n",
       "      <th>valor_remun_media_nominal</th>\n",
       "    </tr>\n",
       "  </thead>\n",
       "  <tbody>\n",
       "    <tr>\n",
       "      <th>0</th>\n",
       "      <td>RJ</td>\n",
       "      <td>1</td>\n",
       "      <td>1999</td>\n",
       "      <td>1</td>\n",
       "      <td>40</td>\n",
       "      <td>1</td>\n",
       "      <td>1.45</td>\n",
       "      <td>194.12</td>\n",
       "    </tr>\n",
       "    <tr>\n",
       "      <th>1</th>\n",
       "      <td>RJ</td>\n",
       "      <td>1</td>\n",
       "      <td>1999</td>\n",
       "      <td>1</td>\n",
       "      <td>48</td>\n",
       "      <td>1</td>\n",
       "      <td>1.96</td>\n",
       "      <td>262.47</td>\n",
       "    </tr>\n",
       "    <tr>\n",
       "      <th>2</th>\n",
       "      <td>RJ</td>\n",
       "      <td>1</td>\n",
       "      <td>1999</td>\n",
       "      <td>1</td>\n",
       "      <td>50</td>\n",
       "      <td>1</td>\n",
       "      <td>5.32</td>\n",
       "      <td>713.71</td>\n",
       "    </tr>\n",
       "    <tr>\n",
       "      <th>3</th>\n",
       "      <td>RJ</td>\n",
       "      <td>1</td>\n",
       "      <td>1999</td>\n",
       "      <td>1</td>\n",
       "      <td>33</td>\n",
       "      <td>1</td>\n",
       "      <td>2.05</td>\n",
       "      <td>275.00</td>\n",
       "    </tr>\n",
       "    <tr>\n",
       "      <th>4</th>\n",
       "      <td>RJ</td>\n",
       "      <td>1</td>\n",
       "      <td>1999</td>\n",
       "      <td>1</td>\n",
       "      <td>19</td>\n",
       "      <td>1</td>\n",
       "      <td>1.70</td>\n",
       "      <td>231.30</td>\n",
       "    </tr>\n",
       "  </tbody>\n",
       "</table>\n",
       "</div>"
      ],
      "text/plain": [
       "  sigla_uf  sexo_trabalhador   ano  vinculo_ativo_3112  idade  \\\n",
       "0       RJ                 1  1999                   1     40   \n",
       "1       RJ                 1  1999                   1     48   \n",
       "2       RJ                 1  1999                   1     50   \n",
       "3       RJ                 1  1999                   1     33   \n",
       "4       RJ                 1  1999                   1     19   \n",
       "\n",
       "   numero_vinculos  valor_remun_media_sm  valor_remun_media_nominal  \n",
       "0                1                  1.45                     194.12  \n",
       "1                1                  1.96                     262.47  \n",
       "2                1                  5.32                     713.71  \n",
       "3                1                  2.05                     275.00  \n",
       "4                1                  1.70                     231.30  "
      ]
     },
     "execution_count": 269,
     "metadata": {},
     "output_type": "execute_result"
    }
   ],
   "source": [
    "agregado_vinculos = pd.read_csv(\"dados/agregado_vinculo\")\n",
    "agregado_vinculos.head()"
   ]
  },
  {
   "cell_type": "markdown",
   "metadata": {},
   "source": [
    "#### 4) Definindo variáveis importantes e funções"
   ]
  },
  {
   "cell_type": "code",
   "execution_count": 270,
   "metadata": {},
   "outputs": [],
   "source": [
    "agrupado_sexo_ano = agregado_vinculos.groupby(by=[ \"ano\",\"sexo_trabalhador\",])\n",
    "agrupado_ano = agregado_vinculos.groupby(\"ano\")\n",
    "\n",
    "def pondera_media(df):\n",
    "    return ws.numpy_weighted_mean(df[\"valor_remun_media_nominal\"], weights=df[\"numero_vinculos\"])\n",
    "\n",
    "def pondera_mediana(df):\n",
    "    return ws.numpy_weighted_median(df[\"valor_remun_media_nominal\"], weights=df[\"numero_vinculos\"])\n",
    "    "
   ]
  },
  {
   "cell_type": "markdown",
   "metadata": {},
   "source": [
    "### Pessoas no mercado formal: mulheres x homens:"
   ]
  },
  {
   "cell_type": "code",
   "execution_count": 276,
   "metadata": {},
   "outputs": [
    {
     "data": {
      "text/html": [
       "<div>\n",
       "<style scoped>\n",
       "    .dataframe tbody tr th:only-of-type {\n",
       "        vertical-align: middle;\n",
       "    }\n",
       "\n",
       "    .dataframe tbody tr th {\n",
       "        vertical-align: top;\n",
       "    }\n",
       "\n",
       "    .dataframe thead th {\n",
       "        text-align: right;\n",
       "    }\n",
       "</style>\n",
       "<table border=\"1\" class=\"dataframe\">\n",
       "  <thead>\n",
       "    <tr style=\"text-align: right;\">\n",
       "      <th>sexo_trabalhador</th>\n",
       "      <th>1</th>\n",
       "      <th>2</th>\n",
       "    </tr>\n",
       "    <tr>\n",
       "      <th>ano</th>\n",
       "      <th></th>\n",
       "      <th></th>\n",
       "    </tr>\n",
       "  </thead>\n",
       "  <tbody>\n",
       "    <tr>\n",
       "      <th>1999</th>\n",
       "      <td>14931320</td>\n",
       "      <td>9650145</td>\n",
       "    </tr>\n",
       "    <tr>\n",
       "      <th>2009</th>\n",
       "      <td>23794873</td>\n",
       "      <td>16872390</td>\n",
       "    </tr>\n",
       "    <tr>\n",
       "      <th>2019</th>\n",
       "      <td>25947222</td>\n",
       "      <td>20509798</td>\n",
       "    </tr>\n",
       "  </tbody>\n",
       "</table>\n",
       "</div>"
      ],
      "text/plain": [
       "sexo_trabalhador         1         2\n",
       "ano                                 \n",
       "1999              14931320   9650145\n",
       "2009              23794873  16872390\n",
       "2019              25947222  20509798"
      ]
     },
     "execution_count": 276,
     "metadata": {},
     "output_type": "execute_result"
    }
   ],
   "source": [
    "num_vinculos_ano_sexo = agrupado_sexo_ano.numero_vinculos.sum().unstack()\n",
    "num_vinculos_ano_sexo"
   ]
  },
  {
   "cell_type": "markdown",
   "metadata": {},
   "source": [
    "#### 1) Gráfico: Mulheres e Homens no mercado formal"
   ]
  },
  {
   "cell_type": "code",
   "execution_count": 277,
   "metadata": {},
   "outputs": [
    {
     "data": {
      "text/plain": [
       "Text(0.5, 1.0, 'Mulheres e homens no mercado formal')"
      ]
     },
     "execution_count": 277,
     "metadata": {},
     "output_type": "execute_result"
    },
    {
     "data": {
      "image/png": "[encoded data removed]",
      "text/plain": [
       "<Figure size 720x432 with 1 Axes>"
      ]
     },
     "metadata": {},
     "output_type": "display_data"
    }
   ],
   "source": [
    "sns.set_style('whitegrid')\n",
    "num_vinculos_ano_sexo.plot(kind='bar', stacked=True, color=['tab:blue', 'tab:cyan'], width=0.6, figsize=(10,6))\n",
    "plt.xticks(rotation=0)\n",
    "plt.ylabel('Número de vínculos ativos');\n",
    "plt.legend([\"Homens\", \"Mulheres\"]);\n",
    "plt.title(\"Mulheres e homens no mercado formal\")\n"
   ]
  },
  {
   "cell_type": "markdown",
   "metadata": {},
   "source": [
    "#### 2) Porcentagem de mulheres no mercado"
   ]
  },
  {
   "cell_type": "code",
   "execution_count": 278,
   "metadata": {},
   "outputs": [
    {
     "data": {
      "text/plain": [
       "ano\n",
       "1999    39.257811\n",
       "2009    41.488875\n",
       "2019    44.147898\n",
       "Name: Porcentagem de vínculos de mulheres, dtype: float64"
      ]
     },
     "execution_count": 278,
     "metadata": {},
     "output_type": "execute_result"
    }
   ],
   "source": [
    "vinculos_ano_mulheres = num_vinculos_ano_sexo[2]\n",
    "num_vinculos_ano = agrupado_ano[\"numero_vinculos\"].sum()\n",
    "porc_vinc_mulheres = (vinculos_ano_mulheres/num_vinculos_ano)*100\n",
    "porc_vinc_mulheres = porc_vinc_mulheres.rename(\"Porcentagem de vínculos de mulheres\")\n",
    "porc_vinc_mulheres"
   ]
  },
  {
   "cell_type": "markdown",
   "metadata": {},
   "source": [
    "### Pessoas abaixo do salário mínimo mulheres x homens:"
   ]
  },
  {
   "cell_type": "markdown",
   "metadata": {},
   "source": [
    "#### 1) Número de mulheres e homens abaixos do sm"
   ]
  },
  {
   "cell_type": "code",
   "execution_count": 263,
   "metadata": {},
   "outputs": [
    {
     "data": {
      "text/html": [
       "<div>\n",
       "<style scoped>\n",
       "    .dataframe tbody tr th:only-of-type {\n",
       "        vertical-align: middle;\n",
       "    }\n",
       "\n",
       "    .dataframe tbody tr th {\n",
       "        vertical-align: top;\n",
       "    }\n",
       "\n",
       "    .dataframe thead th {\n",
       "        text-align: right;\n",
       "    }\n",
       "</style>\n",
       "<table border=\"1\" class=\"dataframe\">\n",
       "  <thead>\n",
       "    <tr style=\"text-align: right;\">\n",
       "      <th>sexo_trabalhador</th>\n",
       "      <th>1</th>\n",
       "      <th>2</th>\n",
       "    </tr>\n",
       "    <tr>\n",
       "      <th>ano</th>\n",
       "      <th></th>\n",
       "      <th></th>\n",
       "    </tr>\n",
       "  </thead>\n",
       "  <tbody>\n",
       "    <tr>\n",
       "      <th>1999</th>\n",
       "      <td>80859</td>\n",
       "      <td>138458</td>\n",
       "    </tr>\n",
       "    <tr>\n",
       "      <th>2009</th>\n",
       "      <td>296183</td>\n",
       "      <td>441987</td>\n",
       "    </tr>\n",
       "    <tr>\n",
       "      <th>2019</th>\n",
       "      <td>764746</td>\n",
       "      <td>867889</td>\n",
       "    </tr>\n",
       "  </tbody>\n",
       "</table>\n",
       "</div>"
      ],
      "text/plain": [
       "sexo_trabalhador       1       2\n",
       "ano                             \n",
       "1999               80859  138458\n",
       "2009              296183  441987\n",
       "2019              764746  867889"
      ]
     },
     "execution_count": 263,
     "metadata": {},
     "output_type": "execute_result"
    }
   ],
   "source": [
    "trabalhadores_abaixo_sm = agregado_vinculos.loc[agregado_vinculos[\"valor_remun_media_sm\"] < 1]\n",
    "abaixo_sm_sexo_ano = trabalhadores_abaixo_sm.groupby(by=[\"ano\", \"sexo_trabalhador\"])[\"numero_vinculos\"].sum().unstack()\n",
    "abaixo_sm_sexo_ano"
   ]
  },
  {
   "cell_type": "markdown",
   "metadata": {},
   "source": [
    "#### 2) Gráfico: Mulheres e Homens abaixo do Salário Mínimo"
   ]
  },
  {
   "cell_type": "code",
   "execution_count": 193,
   "metadata": {},
   "outputs": [
    {
     "data": {
      "text/plain": [
       "Text(0.5, 1.0, 'Mulheres e Homens abaixo do salário mínimo')"
      ]
     },
     "execution_count": 193,
     "metadata": {},
     "output_type": "execute_result"
    },
    {
     "data": {
      "image/png": "[encoded data removed]",
      "text/plain": [
       "<Figure size 720x432 with 1 Axes>"
      ]
     },
     "metadata": {},
     "output_type": "display_data"
    }
   ],
   "source": [
    "sns.set_style('whitegrid')\n",
    "plt.figure(figsize=(10, 6))\n",
    "plot_abaixo_sm = sns.barplot(x=\"ano\",\n",
    "                             y=\"numero_vinculos\",\n",
    "                             data=trabalhadores_abaixo_sm,\n",
    "                             hue=\"sexo_trabalhador\", estimator=np.sum, ci=None)\n",
    "plt.legend([\"Homens\", \"Mulheres\"])\n",
    "plt.ylabel(\"Número de vínculos\")\n",
    "plt.title(\"Mulheres e Homens abaixo do salário mínimo\")"
   ]
  },
  {
   "cell_type": "markdown",
   "metadata": {},
   "source": [
    "### Proporção mulheres e homens abaixo do salário mínimo:"
   ]
  },
  {
   "cell_type": "code",
   "execution_count": 286,
   "metadata": {},
   "outputs": [
    {
     "data": {
      "text/html": [
       "<div>\n",
       "<style scoped>\n",
       "    .dataframe tbody tr th:only-of-type {\n",
       "        vertical-align: middle;\n",
       "    }\n",
       "\n",
       "    .dataframe tbody tr th {\n",
       "        vertical-align: top;\n",
       "    }\n",
       "\n",
       "    .dataframe thead th {\n",
       "        text-align: right;\n",
       "    }\n",
       "</style>\n",
       "<table border=\"1\" class=\"dataframe\">\n",
       "  <thead>\n",
       "    <tr style=\"text-align: right;\">\n",
       "      <th></th>\n",
       "      <th>Homens abaixo do sm</th>\n",
       "      <th>Mulheres abaixo do sm</th>\n",
       "    </tr>\n",
       "    <tr>\n",
       "      <th>ano</th>\n",
       "      <th></th>\n",
       "      <th></th>\n",
       "    </tr>\n",
       "  </thead>\n",
       "  <tbody>\n",
       "    <tr>\n",
       "      <th>1999</th>\n",
       "      <td>0.541540</td>\n",
       "      <td>1.434776</td>\n",
       "    </tr>\n",
       "    <tr>\n",
       "      <th>2009</th>\n",
       "      <td>1.244735</td>\n",
       "      <td>2.619587</td>\n",
       "    </tr>\n",
       "    <tr>\n",
       "      <th>2019</th>\n",
       "      <td>2.947314</td>\n",
       "      <td>4.231582</td>\n",
       "    </tr>\n",
       "  </tbody>\n",
       "</table>\n",
       "</div>"
      ],
      "text/plain": [
       "      Homens abaixo do sm  Mulheres abaixo do sm\n",
       "ano                                             \n",
       "1999             0.541540               1.434776\n",
       "2009             1.244735               2.619587\n",
       "2019             2.947314               4.231582"
      ]
     },
     "execution_count": 286,
     "metadata": {},
     "output_type": "execute_result"
    }
   ],
   "source": [
    "propor_abaixo_sm = pd.concat([\n",
    "    (abaixo_sm_sexo_ano[1]/comp_vinc_ano[1])*100,\n",
    "    (abaixo_sm_sexo_ano[2]/comp_vinc_ano[2])*100\n",
    "], axis=1)\n",
    "\n",
    "propor_abaixo_sm.columns = [\"Homens abaixo do sm\", \"Mulheres abaixo do sm\"]\n",
    "propor_abaixo_sm"
   ]
  },
  {
   "cell_type": "markdown",
   "metadata": {},
   "source": [
    "### Comparação da Remuneração nominal no país"
   ]
  },
  {
   "cell_type": "markdown",
   "metadata": {},
   "source": [
    "#### 1) Comparação das Médias"
   ]
  },
  {
   "cell_type": "code",
   "execution_count": 117,
   "metadata": {},
   "outputs": [
    {
     "data": {
      "text/plain": [
       "ano   sexo_trabalhador\n",
       "1999  1                    750.499641\n",
       "      2                    609.478229\n",
       "2009  1                   1588.113883\n",
       "      2                   1318.641555\n",
       "2019  1                   3158.481449\n",
       "      2                   2724.355038\n",
       "Name: Média da Remuneração Nominal, dtype: float64"
      ]
     },
     "execution_count": 117,
     "metadata": {},
     "output_type": "execute_result"
    }
   ],
   "source": [
    "media_rm_br = agrupado_sexo_ano.apply(pondera_media).rename(\"Média da Remuneração Nominal\")\n",
    "media_rm_br"
   ]
  },
  {
   "cell_type": "markdown",
   "metadata": {},
   "source": [
    "#### 2) Comparação das Medianas"
   ]
  },
  {
   "cell_type": "code",
   "execution_count": 118,
   "metadata": {},
   "outputs": [
    {
     "data": {
      "text/plain": [
       "ano   sexo_trabalhador\n",
       "1999  1                    454.801889\n",
       "      2                    387.360000\n",
       "2009  1                    947.475000\n",
       "      2                    804.134000\n",
       "2019  1                   1967.100000\n",
       "      2                   1714.187500\n",
       "Name: Mediana da Remuneração Nominal, dtype: float64"
      ]
     },
     "execution_count": 118,
     "metadata": {},
     "output_type": "execute_result"
    }
   ],
   "source": [
    "mediana_rm_br = agrupado_sexo_ano.apply(pondera_mediana).rename(\"Mediana da Remuneração Nominal\")\n",
    "mediana_rm_br"
   ]
  },
  {
   "cell_type": "markdown",
   "metadata": {},
   "source": [
    "#### 3) Tabelas completa: Média e Mediana"
   ]
  },
  {
   "cell_type": "code",
   "execution_count": 237,
   "metadata": {},
   "outputs": [
    {
     "data": {
      "text/html": [
       "<div>\n",
       "<style scoped>\n",
       "    .dataframe tbody tr th:only-of-type {\n",
       "        vertical-align: middle;\n",
       "    }\n",
       "\n",
       "    .dataframe tbody tr th {\n",
       "        vertical-align: top;\n",
       "    }\n",
       "\n",
       "    .dataframe thead th {\n",
       "        text-align: right;\n",
       "    }\n",
       "</style>\n",
       "<table border=\"1\" class=\"dataframe\">\n",
       "  <thead>\n",
       "    <tr style=\"text-align: right;\">\n",
       "      <th></th>\n",
       "      <th></th>\n",
       "      <th>Média da Remuneração Nominal</th>\n",
       "      <th>Mediana da Remuneração Nominal</th>\n",
       "    </tr>\n",
       "  </thead>\n",
       "  <tbody>\n",
       "    <tr>\n",
       "      <th>Homens</th>\n",
       "      <th>1999</th>\n",
       "      <td>750.499641</td>\n",
       "      <td>454.801889</td>\n",
       "    </tr>\n",
       "    <tr>\n",
       "      <th>Mulheres</th>\n",
       "      <th>1999</th>\n",
       "      <td>609.478229</td>\n",
       "      <td>387.360000</td>\n",
       "    </tr>\n",
       "    <tr>\n",
       "      <th>Homens</th>\n",
       "      <th>2009</th>\n",
       "      <td>1588.113883</td>\n",
       "      <td>947.475000</td>\n",
       "    </tr>\n",
       "    <tr>\n",
       "      <th>Mulheres</th>\n",
       "      <th>2009</th>\n",
       "      <td>1318.641555</td>\n",
       "      <td>804.134000</td>\n",
       "    </tr>\n",
       "    <tr>\n",
       "      <th>Homens</th>\n",
       "      <th>2019</th>\n",
       "      <td>3158.481449</td>\n",
       "      <td>1967.100000</td>\n",
       "    </tr>\n",
       "    <tr>\n",
       "      <th>Mulheres</th>\n",
       "      <th>2019</th>\n",
       "      <td>2724.355038</td>\n",
       "      <td>1714.187500</td>\n",
       "    </tr>\n",
       "  </tbody>\n",
       "</table>\n",
       "</div>"
      ],
      "text/plain": [
       "               Média da Remuneração Nominal  Mediana da Remuneração Nominal\n",
       "Homens   1999                    750.499641                      454.801889\n",
       "Mulheres 1999                    609.478229                      387.360000\n",
       "Homens   2009                   1588.113883                      947.475000\n",
       "Mulheres 2009                   1318.641555                      804.134000\n",
       "Homens   2019                   3158.481449                     1967.100000\n",
       "Mulheres 2019                   2724.355038                     1714.187500"
      ]
     },
     "execution_count": 237,
     "metadata": {},
     "output_type": "execute_result"
    }
   ],
   "source": [
    "newMultIndex = [(gen, ano) for ano in (1999, 2009, 2019) for gen in (\"Homens\", \"Mulheres\")] \n",
    "descricao_sexo_ano = pd.concat([media_rm_br, mediana_rm_br], axis=1)\n",
    "descricao_sexo_ano.index = pd.MultiIndex.from_tuples(newMultIndex)\n",
    "descricao_sexo_ano"
   ]
  },
  {
   "cell_type": "markdown",
   "metadata": {},
   "source": [
    "#### 4) Salário da mulher em relação ao homem"
   ]
  },
  {
   "cell_type": "code",
   "execution_count": 262,
   "metadata": {},
   "outputs": [
    {
     "data": {
      "text/html": [
       "<div>\n",
       "<style scoped>\n",
       "    .dataframe tbody tr th:only-of-type {\n",
       "        vertical-align: middle;\n",
       "    }\n",
       "\n",
       "    .dataframe tbody tr th {\n",
       "        vertical-align: top;\n",
       "    }\n",
       "\n",
       "    .dataframe thead th {\n",
       "        text-align: right;\n",
       "    }\n",
       "</style>\n",
       "<table border=\"1\" class=\"dataframe\">\n",
       "  <thead>\n",
       "    <tr style=\"text-align: right;\">\n",
       "      <th></th>\n",
       "      <th>1999</th>\n",
       "      <th>2009</th>\n",
       "      <th>2019</th>\n",
       "    </tr>\n",
       "  </thead>\n",
       "  <tbody>\n",
       "    <tr>\n",
       "      <th>Média</th>\n",
       "      <td>18.79%</td>\n",
       "      <td>16.97%</td>\n",
       "      <td>13.74%</td>\n",
       "    </tr>\n",
       "    <tr>\n",
       "      <th>Medina</th>\n",
       "      <td>14.83%</td>\n",
       "      <td>15.13%</td>\n",
       "      <td>12.86%</td>\n",
       "    </tr>\n",
       "  </tbody>\n",
       "</table>\n",
       "</div>"
      ],
      "text/plain": [
       "          1999    2009    2019\n",
       "Média   18.79%  16.97%  13.74%\n",
       "Medina  14.83%  15.13%  12.86%"
      ]
     },
     "execution_count": 262,
     "metadata": {},
     "output_type": "execute_result"
    }
   ],
   "source": [
    "dict_aumento_rm = {}\n",
    "for ano in (1999, 2009, 2019):\n",
    "    media_homens = descricao_sexo_ano[\"Média da Remuneração Nominal\"][(\"Homens\", ano)]\n",
    "    media_mulheres= descricao_sexo_ano[\"Média da Remuneração Nominal\"][(\"Mulheres\", ano)]\n",
    "    mediana_homens = descricao_sexo_ano[\"Mediana da Remuneração Nominal\"][(\"Homens\", ano)]\n",
    "    mediana_mulheres= descricao_sexo_ano[\"Mediana da Remuneração Nominal\"][(\"Mulheres\", ano)]\n",
    "    dict_aumento_rm[ano] = [\n",
    "        f\"{(1 - media_mulheres/media_homens) * 100:.2f}%\",\n",
    "        f\"{(1 - mediana_mulheres/mediana_homens) * 100:.2f}%\"\n",
    "    ]\n",
    "\n",
    "salario_mulher_homem = pd.DataFrame(dict_aumento_rm, index={\"Média\", \"Medina\"})\n",
    "salario_mulher_homem"
   ]
  },
  {
   "cell_type": "markdown",
   "metadata": {},
   "source": [
    "### Comparação Remuneração nominal regiões:"
   ]
  },
  {
   "cell_type": "code",
   "execution_count": 247,
   "metadata": {},
   "outputs": [],
   "source": [
    "regioes= {\n",
    "    \"norte\": [\"AC\", \"AP\", \"AM\", \"PA\", \"RO\", \"RR\", \"TO\"],\n",
    "    \"nordeste\": [\"AL\", \"BA\", \"CE\", \"MA\", \"PB\", \"PE\", \"PI\", \"RN\", \"SE\"],\n",
    "    \"centro_oeste\": [\"DF\", \"GO\", \"MT\", \"MS\"],\n",
    "    \"sudeste\":[\"RJ\", \"SP\", \"MG\", \"ES\"],\n",
    "    \"sul\": [\"PR\", \"RS\", \"SC\"]\n",
    "}\n"
   ]
  },
  {
   "cell_type": "code",
   "execution_count": 260,
   "metadata": {},
   "outputs": [],
   "source": [
    "dict_aumento_rm_reg = {}\n",
    "for reg in regioes:\n",
    "    vinculos_reg = agregado_vinculos.loc[agregado_vinculos[\"sigla_uf\"].isin(regioes[reg])]\n",
    "    vinculos_reg =  vinculos_reg.groupby(by=[\"ano\", \"sexo_trabalhador\"]).apply(pondera_media)\n",
    "    vinculos_reg_porc_1999 = (vinculos_reg[(1999, 2)]/vinculos_reg[(1999, 1)])\n",
    "    vinculos_reg_porc_2019 = (vinculos_reg[(2019, 2)]/vinculos_reg[(2019, 1)])\n",
    "    dict_aumento_rm_reg[reg] = f\"{(vinculos_reg_porc_2019/vinculos_reg_porc_1999 - 1) * 100:.2f}%\"\n"
   ]
  },
  {
   "cell_type": "code",
   "execution_count": 261,
   "metadata": {},
   "outputs": [
    {
     "data": {
      "text/plain": [
       "norte            9.77%\n",
       "nordeste        17.33%\n",
       "centro_oeste    -0.40%\n",
       "sudeste          1.40%\n",
       "sul              6.02%\n",
       "dtype: object"
      ]
     },
     "execution_count": 261,
     "metadata": {},
     "output_type": "execute_result"
    }
   ],
   "source": [
    "salario_mulher_homem_reg = pd.Series(dict_aumento_rm_reg)\n",
    "salario_mulher_homem_reg"
   ]
  }
 ],
 "metadata": {
  "kernelspec": {
   "display_name": "Python 3",
   "language": "python",
   "name": "python3"
  },
  "language_info": {
   "codemirror_mode": {
    "name": "ipython",
    "version": 3
   },
   "file_extension": ".py",
   "mimetype": "text/x-python",
   "name": "python",
   "nbconvert_exporter": "python",
   "pygments_lexer": "ipython3",
   "version": "3.8.5"
  }
 },
 "nbformat": 4,
 "nbformat_minor": 4
}
