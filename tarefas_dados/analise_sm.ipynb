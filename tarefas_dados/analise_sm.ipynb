{
 "cells": [
  {
   "cell_type": "markdown",
   "metadata": {},
   "source": [
    "## Comparações com o salário mínimo"
   ]
  },
  {
   "cell_type": "markdown",
   "metadata": {},
   "source": [
    "#### 1)  Importação das bibliotecas e upload da base"
   ]
  },
  {
   "cell_type": "code",
   "execution_count": 1,
   "metadata": {},
   "outputs": [],
   "source": [
    "import pandas as pd\n",
    "import numpy as np\n",
    "import seaborn as sns\n",
    "import matplotlib.pyplot as plt\n",
    "\n",
    "agregado_vinculos = pd.read_csv(\"dados/agregado_vinculo\")"
   ]
  },
  {
   "cell_type": "markdown",
   "metadata": {},
   "source": [
    "#### 2) Número de mulheres e homens abaixos do sm"
   ]
  },
  {
   "cell_type": "code",
   "execution_count": 4,
   "metadata": {},
   "outputs": [
    {
     "data": {
      "text/html": [
       "<div>\n",
       "<style scoped>\n",
       "    .dataframe tbody tr th:only-of-type {\n",
       "        vertical-align: middle;\n",
       "    }\n",
       "\n",
       "    .dataframe tbody tr th {\n",
       "        vertical-align: top;\n",
       "    }\n",
       "\n",
       "    .dataframe thead th {\n",
       "        text-align: right;\n",
       "    }\n",
       "</style>\n",
       "<table border=\"1\" class=\"dataframe\">\n",
       "  <thead>\n",
       "    <tr style=\"text-align: right;\">\n",
       "      <th>sexo_trabalhador</th>\n",
       "      <th>1</th>\n",
       "      <th>2</th>\n",
       "    </tr>\n",
       "    <tr>\n",
       "      <th>ano</th>\n",
       "      <th></th>\n",
       "      <th></th>\n",
       "    </tr>\n",
       "  </thead>\n",
       "  <tbody>\n",
       "    <tr>\n",
       "      <th>1999</th>\n",
       "      <td>80859</td>\n",
       "      <td>138458</td>\n",
       "    </tr>\n",
       "    <tr>\n",
       "      <th>2009</th>\n",
       "      <td>296183</td>\n",
       "      <td>441987</td>\n",
       "    </tr>\n",
       "    <tr>\n",
       "      <th>2019</th>\n",
       "      <td>764746</td>\n",
       "      <td>867889</td>\n",
       "    </tr>\n",
       "  </tbody>\n",
       "</table>\n",
       "</div>"
      ],
      "text/plain": [
       "sexo_trabalhador       1       2\n",
       "ano                             \n",
       "1999               80859  138458\n",
       "2009              296183  441987\n",
       "2019              764746  867889"
      ]
     },
     "execution_count": 4,
     "metadata": {},
     "output_type": "execute_result"
    }
   ],
   "source": [
    "trabalhadores_abaixo_sm = agregado_vinculos.loc[agregado_vinculos[\"valor_remun_media_sm\"] < 1]\n",
    "abaixo_sm_sexo_ano = trabalhadores_abaixo_sm.groupby(by=[\"ano\", \"sexo_trabalhador\"])[\"numero_vinculos\"].sum().unstack()\n",
    "abaixo_sm_sexo_ano"
   ]
  },
  {
   "cell_type": "markdown",
   "metadata": {},
   "source": [
    "#### 3) Número de mulheres e homens que ganham acima de 10 salários mínimos"
   ]
  },
  {
   "cell_type": "code",
   "execution_count": 3,
   "metadata": {},
   "outputs": [
    {
     "data": {
      "text/html": [
       "<div>\n",
       "<style scoped>\n",
       "    .dataframe tbody tr th:only-of-type {\n",
       "        vertical-align: middle;\n",
       "    }\n",
       "\n",
       "    .dataframe tbody tr th {\n",
       "        vertical-align: top;\n",
       "    }\n",
       "\n",
       "    .dataframe thead th {\n",
       "        text-align: right;\n",
       "    }\n",
       "</style>\n",
       "<table border=\"1\" class=\"dataframe\">\n",
       "  <thead>\n",
       "    <tr style=\"text-align: right;\">\n",
       "      <th>sexo_trabalhador</th>\n",
       "      <th>1</th>\n",
       "      <th>2</th>\n",
       "    </tr>\n",
       "    <tr>\n",
       "      <th>ano</th>\n",
       "      <th></th>\n",
       "      <th></th>\n",
       "    </tr>\n",
       "  </thead>\n",
       "  <tbody>\n",
       "    <tr>\n",
       "      <th>1999</th>\n",
       "      <td>1796599</td>\n",
       "      <td>837289</td>\n",
       "    </tr>\n",
       "    <tr>\n",
       "      <th>2009</th>\n",
       "      <td>1272846</td>\n",
       "      <td>594589</td>\n",
       "    </tr>\n",
       "    <tr>\n",
       "      <th>2019</th>\n",
       "      <td>1169865</td>\n",
       "      <td>569940</td>\n",
       "    </tr>\n",
       "  </tbody>\n",
       "</table>\n",
       "</div>"
      ],
      "text/plain": [
       "sexo_trabalhador        1       2\n",
       "ano                              \n",
       "1999              1796599  837289\n",
       "2009              1272846  594589\n",
       "2019              1169865  569940"
      ]
     },
     "execution_count": 3,
     "metadata": {},
     "output_type": "execute_result"
    }
   ],
   "source": [
    "trabalhadores_acima10_sm = agregado_vinculos.loc[agregado_vinculos[\"valor_remun_media_sm\"] > 10]\n",
    "acima10_sm_sexo = trabalhadores_acima10_sm.groupby(by=[\"ano\", \"sexo_trabalhador\"])[\"numero_vinculos\"].sum().unstack()\n",
    "acima10_sm_sexo"
   ]
  },
  {
   "cell_type": "markdown",
   "metadata": {},
   "source": [
    "#### 4) Gráfico: Mulheres e Homens abaixo do Salário Mínimo"
   ]
  },
  {
   "cell_type": "code",
   "execution_count": 6,
   "metadata": {},
   "outputs": [
    {
     "data": {
      "text/plain": [
       "Text(0.5, 1.0, 'Mulheres e Homens abaixo do salário mínimo')"
      ]
     },
     "execution_count": 6,
     "metadata": {},
     "output_type": "execute_result"
    },
    {
     "data": {
      "image/png": "[encoded data removed]",
      "text/plain": [
       "<Figure size 720x432 with 1 Axes>"
      ]
     },
     "metadata": {},
     "output_type": "display_data"
    }
   ],
   "source": [
    "sns.set_style('whitegrid')\n",
    "plt.figure(figsize=(10, 6))\n",
    "plot_abaixo_sm = sns.barplot(x=\"ano\",\n",
    "                             y=\"numero_vinculos\",\n",
    "                             data=trabalhadores_abaixo_sm,\n",
    "                             hue=\"sexo_trabalhador\", estimator=np.sum, ci=None)\n",
    "plt.legend([\"Homens\", \"Mulheres\"])\n",
    "plt.ylabel(\"Número de vínculos\")\n",
    "plt.title(\"Mulheres e Homens abaixo do salário mínimo\")"
   ]
  },
  {
   "cell_type": "markdown",
   "metadata": {},
   "source": [
    "#### 5) Gráfico: Mulheres e Homens que ganham acima de 10 Salários Mínimos"
   ]
  },
  {
   "cell_type": "code",
   "execution_count": 5,
   "metadata": {},
   "outputs": [
    {
     "data": {
      "text/plain": [
       "Text(0.5, 1.0, 'Mulheres e Homens que ganham acima de 10 salários mínimos')"
      ]
     },
     "execution_count": 5,
     "metadata": {},
     "output_type": "execute_result"
    },
    {
     "data": {
      "image/png": "[encoded data removed]",
      "text/plain": [
       "<Figure size 720x432 with 1 Axes>"
      ]
     },
     "metadata": {},
     "output_type": "display_data"
    }
   ],
   "source": [
    "sns.set_style('whitegrid')\n",
    "plt.figure(figsize=(10, 6))\n",
    "plot_abaixo_sm = sns.barplot(x=\"ano\",\n",
    "                             y=\"numero_vinculos\",\n",
    "                             data=trabalhadores_acima10_sm,\n",
    "                             hue=\"sexo_trabalhador\", estimator=np.sum, ci=None)\n",
    "plt.legend([\"Homens\", \"Mulheres\"])\n",
    "plt.ylabel(\"Número de vínculos\")\n",
    "plt.title(\"Mulheres e Homens que ganham acima de 10 salários mínimos\")"
   ]
  },
  {
   "cell_type": "markdown",
   "metadata": {},
   "source": [
    "#### 3) Proporção mulheres e homens abaixo do salário mínimo:"
   ]
  },
  {
   "cell_type": "code",
   "execution_count": 10,
   "metadata": {},
   "outputs": [
    {
     "data": {
      "text/html": [
       "<div>\n",
       "<style scoped>\n",
       "    .dataframe tbody tr th:only-of-type {\n",
       "        vertical-align: middle;\n",
       "    }\n",
       "\n",
       "    .dataframe tbody tr th {\n",
       "        vertical-align: top;\n",
       "    }\n",
       "\n",
       "    .dataframe thead th {\n",
       "        text-align: right;\n",
       "    }\n",
       "</style>\n",
       "<table border=\"1\" class=\"dataframe\">\n",
       "  <thead>\n",
       "    <tr style=\"text-align: right;\">\n",
       "      <th></th>\n",
       "      <th>Homens abaixo do sm (%)</th>\n",
       "      <th>Mulheres abaixo do sm (%)</th>\n",
       "      <th>Homens acima de 10 sm (%)</th>\n",
       "      <th>Mulheres acima de 10 sm (%)</th>\n",
       "    </tr>\n",
       "    <tr>\n",
       "      <th>ano</th>\n",
       "      <th></th>\n",
       "      <th></th>\n",
       "      <th></th>\n",
       "      <th></th>\n",
       "    </tr>\n",
       "  </thead>\n",
       "  <tbody>\n",
       "    <tr>\n",
       "      <th>1999</th>\n",
       "      <td>36.868551</td>\n",
       "      <td>63.131449</td>\n",
       "      <td>68.210911</td>\n",
       "      <td>31.789089</td>\n",
       "    </tr>\n",
       "    <tr>\n",
       "      <th>2009</th>\n",
       "      <td>40.123955</td>\n",
       "      <td>59.876045</td>\n",
       "      <td>68.160123</td>\n",
       "      <td>31.839877</td>\n",
       "    </tr>\n",
       "    <tr>\n",
       "      <th>2019</th>\n",
       "      <td>46.841211</td>\n",
       "      <td>53.158789</td>\n",
       "      <td>67.241156</td>\n",
       "      <td>32.758844</td>\n",
       "    </tr>\n",
       "  </tbody>\n",
       "</table>\n",
       "</div>"
      ],
      "text/plain": [
       "      Homens abaixo do sm (%)  Mulheres abaixo do sm (%)  \\\n",
       "ano                                                        \n",
       "1999                36.868551                  63.131449   \n",
       "2009                40.123955                  59.876045   \n",
       "2019                46.841211                  53.158789   \n",
       "\n",
       "      Homens acima de 10 sm (%)  Mulheres acima de 10 sm (%)  \n",
       "ano                                                           \n",
       "1999                  68.210911                    31.789089  \n",
       "2009                  68.160123                    31.839877  \n",
       "2019                  67.241156                    32.758844  "
      ]
     },
     "execution_count": 10,
     "metadata": {},
     "output_type": "execute_result"
    }
   ],
   "source": [
    "num_abaixo_sm = trabalhadores_abaixo_sm.groupby(\"ano\")[\"numero_vinculos\"].sum()\n",
    "num_acima10_sm = trabalhadores_acima10_sm.groupby(\"ano\")[\"numero_vinculos\"].sum()\n",
    "propor_abaixo_sm = pd.concat([\n",
    "    (abaixo_sm_sexo_ano[1]/num_abaixo_sm)*100,\n",
    "    (abaixo_sm_sexo_ano[2]/num_abaixo_sm)*100,\n",
    "    (acima10_sm_sexo[1]/num_acima10_sm)*100,\n",
    "    (acima10_sm_sexo[2]/num_acima10_sm)*100,\n",
    "], axis=1)\n",
    "\n",
    "propor_abaixo_sm.columns = [\"Homens abaixo do sm (%)\", \"Mulheres abaixo do sm (%)\", \"Homens acima de 10 sm (%)\", \"Mulheres acima de 10 sm (%)\"]\n",
    "propor_abaixo_sm "
   ]
  }
 ],
 "metadata": {
  "kernelspec": {
   "display_name": "Python 3",
   "language": "python",
   "name": "python3"
  },
  "language_info": {
   "codemirror_mode": {
    "name": "ipython",
    "version": 3
   },
   "file_extension": ".py",
   "mimetype": "text/x-python",
   "name": "python",
   "nbconvert_exporter": "python",
   "pygments_lexer": "ipython3",
   "version": "3.8.5"
  }
 },
 "nbformat": 4,
 "nbformat_minor": 4
}
