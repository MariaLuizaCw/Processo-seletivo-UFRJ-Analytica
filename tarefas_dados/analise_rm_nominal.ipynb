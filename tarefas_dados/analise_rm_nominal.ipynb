{
 "cells": [
  {
   "cell_type": "markdown",
   "metadata": {},
   "source": [
    "## Comparação da Remuneração nominal no país"
   ]
  },
  {
   "cell_type": "markdown",
   "metadata": {},
   "source": [
    "### Importação das bibliotecas e da base"
   ]
  },
  {
   "cell_type": "code",
   "execution_count": 1,
   "metadata": {},
   "outputs": [],
   "source": [
    "import pandas as pd\n",
    "import numpy as np\n",
    "import weightedstats as ws\n",
    "import seaborn as sns\n",
    "import matplotlib.pyplot as plt\n",
    "\n",
    "agregado_vinculos = pd.read_csv(\"dados/agregado_vinculo\")"
   ]
  },
  {
   "cell_type": "markdown",
   "metadata": {},
   "source": [
    "### Análise no país"
   ]
  },
  {
   "cell_type": "markdown",
   "metadata": {},
   "source": [
    "#### 1) Variáveis e funções importantes"
   ]
  },
  {
   "cell_type": "code",
   "execution_count": 2,
   "metadata": {},
   "outputs": [],
   "source": [
    "agrupado_sexo_ano = agregado_vinculos.groupby(by=[ \"ano\",\"sexo_trabalhador\",])\n",
    "agrupado_ano = agregado_vinculos.groupby(\"ano\")\n",
    "\n",
    "def pondera_media(df):\n",
    "    return np.average(df[\"valor_remun_media_nominal\"], weights=df[\"numero_vinculos\"])\n",
    "\n",
    "def pondera_mediana(df):\n",
    "    return ws.numpy_weighted_median(df[\"valor_remun_media_nominal\"], weights=df[\"numero_vinculos\"])\n",
    "    "
   ]
  },
  {
   "cell_type": "markdown",
   "metadata": {},
   "source": [
    "#### 2) Comparação das médias no ano"
   ]
  },
  {
   "cell_type": "code",
   "execution_count": 3,
   "metadata": {},
   "outputs": [
    {
     "data": {
      "text/plain": [
       "ano   sexo_trabalhador\n",
       "1999  1                    750.499641\n",
       "      2                    609.478229\n",
       "2009  1                   1588.113883\n",
       "      2                   1318.641555\n",
       "2019  1                   3158.481449\n",
       "      2                   2724.355038\n",
       "Name: Média da Remuneração Nominal, dtype: float64"
      ]
     },
     "execution_count": 3,
     "metadata": {},
     "output_type": "execute_result"
    }
   ],
   "source": [
    "media_rm_br = agrupado_sexo_ano.apply(pondera_media).rename(\"Média da Remuneração Nominal\")\n",
    "media_rm_br"
   ]
  },
  {
   "cell_type": "markdown",
   "metadata": {},
   "source": [
    "#### 3) Comparação da mediana no ano"
   ]
  },
  {
   "cell_type": "code",
   "execution_count": 4,
   "metadata": {},
   "outputs": [
    {
     "data": {
      "text/plain": [
       "ano   sexo_trabalhador\n",
       "1999  1                    454.801889\n",
       "      2                    387.360000\n",
       "2009  1                    947.475000\n",
       "      2                    804.134000\n",
       "2019  1                   1967.100000\n",
       "      2                   1714.187500\n",
       "Name: Mediana da Remuneração Nominal, dtype: float64"
      ]
     },
     "execution_count": 4,
     "metadata": {},
     "output_type": "execute_result"
    }
   ],
   "source": [
    "mediana_rm_br = agrupado_sexo_ano.apply(pondera_mediana).rename(\"Mediana da Remuneração Nominal\")\n",
    "mediana_rm_br"
   ]
  },
  {
   "cell_type": "markdown",
   "metadata": {},
   "source": [
    "#### 4) Tabela completa: media e mediana"
   ]
  },
  {
   "cell_type": "code",
   "execution_count": 5,
   "metadata": {},
   "outputs": [
    {
     "data": {
      "text/html": [
       "<div>\n",
       "<style scoped>\n",
       "    .dataframe tbody tr th:only-of-type {\n",
       "        vertical-align: middle;\n",
       "    }\n",
       "\n",
       "    .dataframe tbody tr th {\n",
       "        vertical-align: top;\n",
       "    }\n",
       "\n",
       "    .dataframe thead th {\n",
       "        text-align: right;\n",
       "    }\n",
       "</style>\n",
       "<table border=\"1\" class=\"dataframe\">\n",
       "  <thead>\n",
       "    <tr style=\"text-align: right;\">\n",
       "      <th></th>\n",
       "      <th></th>\n",
       "      <th>Média da Remuneração Nominal</th>\n",
       "      <th>Mediana da Remuneração Nominal</th>\n",
       "    </tr>\n",
       "  </thead>\n",
       "  <tbody>\n",
       "    <tr>\n",
       "      <th>Homens</th>\n",
       "      <th>1999</th>\n",
       "      <td>750.499641</td>\n",
       "      <td>454.801889</td>\n",
       "    </tr>\n",
       "    <tr>\n",
       "      <th>Mulheres</th>\n",
       "      <th>1999</th>\n",
       "      <td>609.478229</td>\n",
       "      <td>387.360000</td>\n",
       "    </tr>\n",
       "    <tr>\n",
       "      <th>Homens</th>\n",
       "      <th>2009</th>\n",
       "      <td>1588.113883</td>\n",
       "      <td>947.475000</td>\n",
       "    </tr>\n",
       "    <tr>\n",
       "      <th>Mulheres</th>\n",
       "      <th>2009</th>\n",
       "      <td>1318.641555</td>\n",
       "      <td>804.134000</td>\n",
       "    </tr>\n",
       "    <tr>\n",
       "      <th>Homens</th>\n",
       "      <th>2019</th>\n",
       "      <td>3158.481449</td>\n",
       "      <td>1967.100000</td>\n",
       "    </tr>\n",
       "    <tr>\n",
       "      <th>Mulheres</th>\n",
       "      <th>2019</th>\n",
       "      <td>2724.355038</td>\n",
       "      <td>1714.187500</td>\n",
       "    </tr>\n",
       "  </tbody>\n",
       "</table>\n",
       "</div>"
      ],
      "text/plain": [
       "               Média da Remuneração Nominal  Mediana da Remuneração Nominal\n",
       "Homens   1999                    750.499641                      454.801889\n",
       "Mulheres 1999                    609.478229                      387.360000\n",
       "Homens   2009                   1588.113883                      947.475000\n",
       "Mulheres 2009                   1318.641555                      804.134000\n",
       "Homens   2019                   3158.481449                     1967.100000\n",
       "Mulheres 2019                   2724.355038                     1714.187500"
      ]
     },
     "execution_count": 5,
     "metadata": {},
     "output_type": "execute_result"
    }
   ],
   "source": [
    "newMultIndex = [(gen, ano) for ano in (1999, 2009, 2019) for gen in (\"Homens\", \"Mulheres\")] \n",
    "descricao_sexo_ano = pd.concat([media_rm_br, mediana_rm_br], axis=1)\n",
    "descricao_sexo_ano.index = pd.MultiIndex.from_tuples(newMultIndex)\n",
    "descricao_sexo_ano"
   ]
  },
  {
   "cell_type": "markdown",
   "metadata": {},
   "source": [
    "#### 5) Salário da mulher em relação ao homem durante os anos"
   ]
  },
  {
   "cell_type": "code",
   "execution_count": 8,
   "metadata": {},
   "outputs": [
    {
     "data": {
      "text/html": [
       "<div>\n",
       "<style scoped>\n",
       "    .dataframe tbody tr th:only-of-type {\n",
       "        vertical-align: middle;\n",
       "    }\n",
       "\n",
       "    .dataframe tbody tr th {\n",
       "        vertical-align: top;\n",
       "    }\n",
       "\n",
       "    .dataframe thead th {\n",
       "        text-align: right;\n",
       "    }\n",
       "</style>\n",
       "<table border=\"1\" class=\"dataframe\">\n",
       "  <thead>\n",
       "    <tr style=\"text-align: right;\">\n",
       "      <th></th>\n",
       "      <th>1999</th>\n",
       "      <th>2009</th>\n",
       "      <th>2019</th>\n",
       "    </tr>\n",
       "  </thead>\n",
       "  <tbody>\n",
       "    <tr>\n",
       "      <th>Mediana</th>\n",
       "      <td>18.79%</td>\n",
       "      <td>16.97%</td>\n",
       "      <td>13.74%</td>\n",
       "    </tr>\n",
       "    <tr>\n",
       "      <th>Média</th>\n",
       "      <td>14.83%</td>\n",
       "      <td>15.13%</td>\n",
       "      <td>12.86%</td>\n",
       "    </tr>\n",
       "  </tbody>\n",
       "</table>\n",
       "</div>"
      ],
      "text/plain": [
       "           1999    2009    2019\n",
       "Mediana  18.79%  16.97%  13.74%\n",
       "Média    14.83%  15.13%  12.86%"
      ]
     },
     "execution_count": 8,
     "metadata": {},
     "output_type": "execute_result"
    }
   ],
   "source": [
    "dict_aumento_rm = {}\n",
    "for ano in (1999, 2009, 2019):\n",
    "    media_homens = descricao_sexo_ano[\"Média da Remuneração Nominal\"][(\"Homens\", ano)]\n",
    "    media_mulheres= descricao_sexo_ano[\"Média da Remuneração Nominal\"][(\"Mulheres\", ano)]\n",
    "    mediana_homens = descricao_sexo_ano[\"Mediana da Remuneração Nominal\"][(\"Homens\", ano)]\n",
    "    mediana_mulheres= descricao_sexo_ano[\"Mediana da Remuneração Nominal\"][(\"Mulheres\", ano)]\n",
    "    dict_aumento_rm[ano] = [\n",
    "        f\"{(1 - media_mulheres/media_homens) * 100:.2f}%\",\n",
    "        f\"{(1 - mediana_mulheres/mediana_homens) * 100:.2f}%\"\n",
    "    ]\n",
    "\n",
    "salario_mulher_homem = pd.DataFrame(dict_aumento_rm, index={\"Média\", \"Mediana\"})\n",
    "salario_mulher_homem"
   ]
  },
  {
   "cell_type": "markdown",
   "metadata": {},
   "source": [
    "### Análise nas regiões"
   ]
  },
  {
   "cell_type": "markdown",
   "metadata": {},
   "source": [
    "#### 1) Variáveis importantes"
   ]
  },
  {
   "cell_type": "code",
   "execution_count": 6,
   "metadata": {},
   "outputs": [],
   "source": [
    "regioes= {\n",
    "    \"norte\": [\"AC\", \"AP\", \"AM\", \"PA\", \"RO\", \"RR\", \"TO\"],\n",
    "    \"nordeste\": [\"AL\", \"BA\", \"CE\", \"MA\", \"PB\", \"PE\", \"PI\", \"RN\", \"SE\"],\n",
    "    \"centro_oeste\": [\"DF\", \"GO\", \"MT\", \"MS\"],\n",
    "    \"sudeste\":[\"RJ\", \"SP\", \"MG\", \"ES\"],\n",
    "    \"sul\": [\"PR\", \"RS\", \"SC\"]\n",
    "}\n"
   ]
  },
  {
   "cell_type": "markdown",
   "metadata": {},
   "source": [
    "#### 2) Redução da desigualdade salarial nas regiões de 1999 até 2019"
   ]
  },
  {
   "cell_type": "code",
   "execution_count": 7,
   "metadata": {},
   "outputs": [
    {
     "data": {
      "text/plain": [
       "norte            9.77%\n",
       "nordeste        17.33%\n",
       "centro_oeste    -0.40%\n",
       "sudeste          1.40%\n",
       "sul              6.02%\n",
       "dtype: object"
      ]
     },
     "execution_count": 7,
     "metadata": {},
     "output_type": "execute_result"
    }
   ],
   "source": [
    "dict_aumento_rm_reg = {}\n",
    "for reg in regioes:\n",
    "    vinculos_reg = agregado_vinculos.loc[agregado_vinculos[\"sigla_uf\"].isin(regioes[reg])]\n",
    "    vinculos_reg =  vinculos_reg.groupby(by=[\"ano\", \"sexo_trabalhador\"]).apply(pondera_media)\n",
    "    vinculos_reg_porc_1999 = (vinculos_reg[(1999, 2)]/vinculos_reg[(1999, 1)])\n",
    "    vinculos_reg_porc_2019 = (vinculos_reg[(2019, 2)]/vinculos_reg[(2019, 1)])\n",
    "    dict_aumento_rm_reg[reg] = f\"{(vinculos_reg_porc_2019/vinculos_reg_porc_1999 - 1) * 100:.2f}%\"\n",
    "\n",
    "salario_mulher_homem_reg = pd.Series(dict_aumento_rm_reg)\n",
    "salario_mulher_homem_reg"
   ]
  }
 ],
 "metadata": {
  "kernelspec": {
   "display_name": "Python 3",
   "language": "python",
   "name": "python3"
  },
  "language_info": {
   "codemirror_mode": {
    "name": "ipython",
    "version": 3
   },
   "file_extension": ".py",
   "mimetype": "text/x-python",
   "name": "python",
   "nbconvert_exporter": "python",
   "pygments_lexer": "ipython3",
   "version": "3.8.5"
  }
 },
 "nbformat": 4,
 "nbformat_minor": 4
}
